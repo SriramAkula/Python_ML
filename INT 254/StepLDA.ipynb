{
  "cells": [
    {
      "cell_type": "code",
      "execution_count": 1,
      "metadata": {
        "id": "RkhjGgxpZSCj"
      },
      "outputs": [],
      "source": [
        "import pandas as pd\n",
        "import numpy as np\n",
        "\n",
        "from sklearn.datasets import load_iris\n",
        "data = load_iris()\n",
        "X=data.data\n",
        "y=data.target\n",
        "\n",
        "from sklearn.model_selection import train_test_split\n",
        "x_train,x_test,y_train,y_test=train_test_split(X,y,test_size=0.2,random_state=1)"
      ]
    },
    {
      "cell_type": "code",
      "execution_count": 2,
      "metadata": {
        "colab": {
          "base_uri": "https://localhost:8080/"
        },
        "id": "1oESbPrqcXxU",
        "outputId": "895a129c-e886-47d1-f8c6-bd80e57c7dca"
      },
      "outputs": [
        {
          "name": "stdout",
          "output_type": "stream",
          "text": [
            "[[4.96153846 3.36666667 1.46666667 0.23333333]\n",
            " [5.94594595 2.73243243 4.22972973 1.30540541]\n",
            " [6.525      2.95227273 5.53409091 2.02045455]]\n"
          ]
        }
      ],
      "source": [
        "def class_mean_vectors(X,y):\n",
        "  class_mean=[]\n",
        "  classes=np.unique(y)\n",
        "  for c in classes:\n",
        "    class_mean.append(np.mean(X[y==c],axis=0))\n",
        "  return np.array(class_mean)\n",
        "\n",
        "mean_vectors = class_mean_vectors(x_train,y_train)\n",
        "print(mean_vectors)"
      ]
    },
    {
      "cell_type": "code",
      "execution_count": 3,
      "metadata": {
        "colab": {
          "base_uri": "https://localhost:8080/"
        },
        "id": "p74ApVnLfF5F",
        "outputId": "71f5150b-fd0d-4c8d-dd02-af4d0803abdc"
      },
      "outputs": [
        {
          "name": "stdout",
          "output_type": "stream",
          "text": [
            "[[0.78828342 0.24938374 0.52690563 0.12042372]\n",
            " [0.24938374 0.33751488 0.15220968 0.09895524]\n",
            " [0.52690563 0.15220968 0.55554041 0.13915734]\n",
            " [0.12042372 0.09895524 0.13915734 0.13248827]]\n"
          ]
        }
      ],
      "source": [
        "def within_class_scatter_matrix(X,y):\n",
        "  n_features=X.shape[1]\n",
        "  class_scatter_matrix=np.zeros((n_features,n_features))\n",
        "  classes=np.unique(y)\n",
        "  for c in classes:\n",
        "    class_scatter_matrix += np.cov(X[y == c].T)\n",
        "  return class_scatter_matrix\n",
        "\n",
        "Sw = within_class_scatter_matrix(x_train,y_train)\n",
        "print(Sw)"
      ]
    },
    {
      "cell_type": "code",
      "execution_count": 4,
      "metadata": {
        "colab": {
          "base_uri": "https://localhost:8080/"
        },
        "id": "34TX4yehhMMU",
        "outputId": "46693297-69cc-47c6-ecc1-168e53fd1969"
      },
      "outputs": [
        {
          "name": "stdout",
          "output_type": "stream",
          "text": [
            "[[ 28.95400302 -12.63106375  78.0084394   32.39016015]\n",
            " [-12.63106375   8.08550818 -35.42484717 -13.76336643]\n",
            " [ 78.0084394  -35.42484717 210.92642514  87.06770246]\n",
            " [ 32.39016015 -13.76336643  87.06770246  36.28632564]]\n"
          ]
        }
      ],
      "source": [
        "def between_class_scatter_matrix(X,y,mean_vectors):\n",
        "  overall_mean = np.mean(X, axis=0)\n",
        "  n_features = X.shape[1]\n",
        "  Sb = np.zeros((n_features,n_features))\n",
        "  for i, mean_vec in enumerate(mean_vectors):\n",
        "    n = X[y == i+1,:].shape[0]\n",
        "    mean_vec = mean_vec.reshape(-1,1)\n",
        "    overall_mean = overall_mean.reshape(-1,1)\n",
        "    Sb += n * (mean_vec - overall_mean).dot((mean_vec - overall_mean).T)\n",
        "  return Sb\n",
        "\n",
        "Sb = between_class_scatter_matrix(x_train, y_train, mean_vectors)\n",
        "print(Sb)"
      ]
    },
    {
      "cell_type": "code",
      "execution_count": 5,
      "metadata": {
        "id": "tetDHtUJkCTj"
      },
      "outputs": [],
      "source": [
        "eigenvalues,eigenvectors = np.linalg.eig(np.linalg.inv(Sw).dot(Sb))"
      ]
    },
    {
      "cell_type": "code",
      "execution_count": 6,
      "metadata": {
        "colab": {
          "base_uri": "https://localhost:8080/"
        },
        "id": "Wec5FXDEkVZN",
        "outputId": "c6e6fd9e-3438-445d-8401-ae8e1b874a41"
      },
      "outputs": [
        {
          "name": "stdout",
          "output_type": "stream",
          "text": [
            "[(770.563768550306, array([-0.3152988 , -0.35428878,  0.67267328,  0.56795843])), (7.815731727335231, array([-0.14169308,  0.67961822, -0.1239499 ,  0.70899828])), (5.962107939380014e-14, array([-0.28080368, -0.28629583, -0.30133019,  0.86509197])), (3.502412594530579e-14, array([ 0.87283888, -0.00281439, -0.12900706, -0.47063951]))]\n"
          ]
        }
      ],
      "source": [
        "eigen_pairs = [(np.abs(eigenvalues[i]),eigenvectors[:,i]) for i in range(len(eigenvalues))]\n",
        "eigen_pairs = sorted(eigen_pairs, key=lambda k: k[0], reverse=True)\n",
        "\n",
        "print(eigen_pairs)"
      ]
    },
    {
      "cell_type": "code",
      "execution_count": 7,
      "metadata": {
        "id": "KOYV8QD9lCg6"
      },
      "outputs": [],
      "source": [
        "W = np.hstack((eigen_pairs[0][1][:,np.newaxis].real, eigen_pairs[1][1][:,np.newaxis].real))"
      ]
    },
    {
      "cell_type": "code",
      "execution_count": 8,
      "metadata": {
        "id": "vWM_leialeR9"
      },
      "outputs": [],
      "source": [
        "x_train_lda = x_train.dot(W)\n",
        "x_test_lda = x_test.dot(W)"
      ]
    },
    {
      "cell_type": "code",
      "execution_count": 9,
      "metadata": {
        "colab": {
          "base_uri": "https://localhost:8080/"
        },
        "id": "9f53QqTIllol",
        "outputId": "63dee1cf-7a53-4b9a-9580-dc117671d607"
      },
      "outputs": [
        {
          "name": "stdout",
          "output_type": "stream",
          "text": [
            "Accuracy: 1.0\n"
          ]
        }
      ],
      "source": [
        "from sklearn.linear_model import LogisticRegression\n",
        "from sklearn.metrics import accuracy_score\n",
        "\n",
        "lr = LogisticRegression()\n",
        "lr.fit(x_train_lda,y_train)\n",
        "y_pred=lr.predict(x_test_lda)\n",
        "accuracy = accuracy_score(y_test, y_pred)\n",
        "print(\"Accuracy:\",accuracy)"
      ]
    },
    {
      "cell_type": "code",
      "execution_count": null,
      "metadata": {
        "id": "m99S2xhomiVO"
      },
      "outputs": [],
      "source": []
    },
    {
      "cell_type": "code",
      "execution_count": 10,
      "metadata": {
        "colab": {
          "base_uri": "https://localhost:8080/"
        },
        "id": "J_swAbEyoY36",
        "outputId": "bd8551e0-b852-4818-cfa8-ff6cc2257595"
      },
      "outputs": [
        {
          "name": "stdout",
          "output_type": "stream",
          "text": [
            "Accuracy: 1.0\n"
          ]
        }
      ],
      "source": [
        "from sklearn.datasets import load_iris\n",
        "from sklearn.model_selection import train_test_split\n",
        "from sklearn.discriminant_analysis import LinearDiscriminantAnalysis\n",
        "from sklearn.metrics import accuracy_score\n",
        "\n",
        "# Load Iris dataset\n",
        "iris = load_iris()\n",
        "X = iris.data\n",
        "y = iris.target\n",
        "\n",
        "# Split data into training and testing sets\n",
        "X_train, X_test, y_train, y_test = train_test_split(X, y, test_size=0.2, random_state=42)\n",
        "\n",
        "# Create and fit LDA model\n",
        "lda = LinearDiscriminantAnalysis()\n",
        "lda.fit(X_train, y_train)\n",
        "\n",
        "# Make predictions on test data\n",
        "y_pred = lda.predict(X_test)\n",
        "\n",
        "# Evaluate model performance (accuracy)\n",
        "accuracy = accuracy_score(y_test, y_pred)\n",
        "print(\"Accuracy:\", accuracy)\n"
      ]
    },
    {
      "cell_type": "code",
      "execution_count": null,
      "metadata": {
        "id": "s8LgXOYyoaSP"
      },
      "outputs": [],
      "source": []
    }
  ],
  "metadata": {
    "colab": {
      "provenance": []
    },
    "kernelspec": {
      "display_name": "Python 3",
      "name": "python3"
    },
    "language_info": {
      "codemirror_mode": {
        "name": "ipython",
        "version": 3
      },
      "file_extension": ".py",
      "mimetype": "text/x-python",
      "name": "python",
      "nbconvert_exporter": "python",
      "pygments_lexer": "ipython3",
      "version": "3.12.2"
    }
  },
  "nbformat": 4,
  "nbformat_minor": 0
}
