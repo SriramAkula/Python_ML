{
  "cells": [
    {
      "cell_type": "code",
      "execution_count": 33,
      "metadata": {
        "id": "Lm96z8Z7DcUo"
      },
      "outputs": [
        {
          "data": {
            "text/html": [
              "<div>\n",
              "<style scoped>\n",
              "    .dataframe tbody tr th:only-of-type {\n",
              "        vertical-align: middle;\n",
              "    }\n",
              "\n",
              "    .dataframe tbody tr th {\n",
              "        vertical-align: top;\n",
              "    }\n",
              "\n",
              "    .dataframe thead th {\n",
              "        text-align: right;\n",
              "    }\n",
              "</style>\n",
              "<table border=\"1\" class=\"dataframe\">\n",
              "  <thead>\n",
              "    <tr style=\"text-align: right;\">\n",
              "      <th></th>\n",
              "      <th>accX</th>\n",
              "      <th>accY</th>\n",
              "      <th>accZ</th>\n",
              "      <th>gyroX</th>\n",
              "      <th>gyroY</th>\n",
              "      <th>gyroZ</th>\n",
              "      <th>timestamp</th>\n",
              "      <th>Activity</th>\n",
              "    </tr>\n",
              "  </thead>\n",
              "  <tbody>\n",
              "    <tr>\n",
              "      <th>0</th>\n",
              "      <td>-0.496517</td>\n",
              "      <td>3.785628</td>\n",
              "      <td>8.954828</td>\n",
              "      <td>-0.142849</td>\n",
              "      <td>-0.126159</td>\n",
              "      <td>-0.022539</td>\n",
              "      <td>34:22.9</td>\n",
              "      <td>1</td>\n",
              "    </tr>\n",
              "    <tr>\n",
              "      <th>1</th>\n",
              "      <td>-0.462388</td>\n",
              "      <td>3.869603</td>\n",
              "      <td>9.281898</td>\n",
              "      <td>0.084349</td>\n",
              "      <td>0.096695</td>\n",
              "      <td>0.092130</td>\n",
              "      <td>34:23.0</td>\n",
              "      <td>1</td>\n",
              "    </tr>\n",
              "    <tr>\n",
              "      <th>2</th>\n",
              "      <td>-0.296084</td>\n",
              "      <td>3.820505</td>\n",
              "      <td>8.930728</td>\n",
              "      <td>0.061763</td>\n",
              "      <td>0.051543</td>\n",
              "      <td>0.071287</td>\n",
              "      <td>34:23.1</td>\n",
              "      <td>1</td>\n",
              "    </tr>\n",
              "    <tr>\n",
              "      <th>3</th>\n",
              "      <td>-0.469723</td>\n",
              "      <td>3.890110</td>\n",
              "      <td>8.744067</td>\n",
              "      <td>0.007641</td>\n",
              "      <td>0.028679</td>\n",
              "      <td>0.109433</td>\n",
              "      <td>34:23.2</td>\n",
              "      <td>1</td>\n",
              "    </tr>\n",
              "    <tr>\n",
              "      <th>4</th>\n",
              "      <td>-0.472418</td>\n",
              "      <td>4.109105</td>\n",
              "      <td>8.941207</td>\n",
              "      <td>-0.123640</td>\n",
              "      <td>0.099057</td>\n",
              "      <td>0.051943</td>\n",
              "      <td>34:23.3</td>\n",
              "      <td>1</td>\n",
              "    </tr>\n",
              "  </tbody>\n",
              "</table>\n",
              "</div>"
            ],
            "text/plain": [
              "       accX      accY      accZ     gyroX     gyroY     gyroZ timestamp  \\\n",
              "0 -0.496517  3.785628  8.954828 -0.142849 -0.126159 -0.022539   34:22.9   \n",
              "1 -0.462388  3.869603  9.281898  0.084349  0.096695  0.092130   34:23.0   \n",
              "2 -0.296084  3.820505  8.930728  0.061763  0.051543  0.071287   34:23.1   \n",
              "3 -0.469723  3.890110  8.744067  0.007641  0.028679  0.109433   34:23.2   \n",
              "4 -0.472418  4.109105  8.941207 -0.123640  0.099057  0.051943   34:23.3   \n",
              "\n",
              "   Activity  \n",
              "0         1  \n",
              "1         1  \n",
              "2         1  \n",
              "3         1  \n",
              "4         1  "
            ]
          },
          "execution_count": 33,
          "metadata": {},
          "output_type": "execute_result"
        }
      ],
      "source": [
        "import pandas as pd\n",
        "df = pd.read_csv(\"accelerometer_gyro_mobile_phone_dataset.csv\")\n",
        "df.head()"
      ]
    },
    {
      "cell_type": "code",
      "execution_count": 34,
      "metadata": {
        "id": "lDsHKjSzEL9P"
      },
      "outputs": [
        {
          "data": {
            "text/plain": [
              "accX         0\n",
              "accY         0\n",
              "accZ         0\n",
              "gyroX        0\n",
              "gyroY        0\n",
              "gyroZ        0\n",
              "timestamp    0\n",
              "Activity     0\n",
              "dtype: int64"
            ]
          },
          "execution_count": 34,
          "metadata": {},
          "output_type": "execute_result"
        }
      ],
      "source": [
        "df.isnull().sum()"
      ]
    },
    {
      "cell_type": "code",
      "execution_count": 35,
      "metadata": {
        "id": "IXxwsMP2FRQz"
      },
      "outputs": [
        {
          "data": {
            "text/html": [
              "<div>\n",
              "<style scoped>\n",
              "    .dataframe tbody tr th:only-of-type {\n",
              "        vertical-align: middle;\n",
              "    }\n",
              "\n",
              "    .dataframe tbody tr th {\n",
              "        vertical-align: top;\n",
              "    }\n",
              "\n",
              "    .dataframe thead th {\n",
              "        text-align: right;\n",
              "    }\n",
              "</style>\n",
              "<table border=\"1\" class=\"dataframe\">\n",
              "  <thead>\n",
              "    <tr style=\"text-align: right;\">\n",
              "      <th></th>\n",
              "      <th>accX</th>\n",
              "      <th>accY</th>\n",
              "      <th>accZ</th>\n",
              "      <th>gyroX</th>\n",
              "      <th>gyroY</th>\n",
              "      <th>gyroZ</th>\n",
              "      <th>Activity</th>\n",
              "    </tr>\n",
              "  </thead>\n",
              "  <tbody>\n",
              "    <tr>\n",
              "      <th>count</th>\n",
              "      <td>31991.000000</td>\n",
              "      <td>31991.000000</td>\n",
              "      <td>31991.000000</td>\n",
              "      <td>31991.000000</td>\n",
              "      <td>31991.000000</td>\n",
              "      <td>31991.000000</td>\n",
              "      <td>31991.000000</td>\n",
              "    </tr>\n",
              "    <tr>\n",
              "      <th>mean</th>\n",
              "      <td>0.023825</td>\n",
              "      <td>2.153858</td>\n",
              "      <td>9.537909</td>\n",
              "      <td>-0.004493</td>\n",
              "      <td>-0.014756</td>\n",
              "      <td>-0.007021</td>\n",
              "      <td>0.982151</td>\n",
              "    </tr>\n",
              "    <tr>\n",
              "      <th>std</th>\n",
              "      <td>0.741396</td>\n",
              "      <td>1.085466</td>\n",
              "      <td>2.056358</td>\n",
              "      <td>0.307643</td>\n",
              "      <td>0.249201</td>\n",
              "      <td>0.266120</td>\n",
              "      <td>0.132404</td>\n",
              "    </tr>\n",
              "    <tr>\n",
              "      <th>min</th>\n",
              "      <td>-3.673361</td>\n",
              "      <td>-4.386029</td>\n",
              "      <td>4.296066</td>\n",
              "      <td>-1.470421</td>\n",
              "      <td>-1.430659</td>\n",
              "      <td>-1.894102</td>\n",
              "      <td>0.000000</td>\n",
              "    </tr>\n",
              "    <tr>\n",
              "      <th>25%</th>\n",
              "      <td>-0.472193</td>\n",
              "      <td>1.413062</td>\n",
              "      <td>7.794217</td>\n",
              "      <td>-0.149783</td>\n",
              "      <td>-0.162656</td>\n",
              "      <td>-0.154126</td>\n",
              "      <td>1.000000</td>\n",
              "    </tr>\n",
              "    <tr>\n",
              "      <th>50%</th>\n",
              "      <td>-0.024998</td>\n",
              "      <td>2.119143</td>\n",
              "      <td>9.406739</td>\n",
              "      <td>0.022301</td>\n",
              "      <td>-0.011060</td>\n",
              "      <td>0.005261</td>\n",
              "      <td>1.000000</td>\n",
              "    </tr>\n",
              "    <tr>\n",
              "      <th>75%</th>\n",
              "      <td>0.477208</td>\n",
              "      <td>2.928435</td>\n",
              "      <td>11.158845</td>\n",
              "      <td>0.177978</td>\n",
              "      <td>0.124966</td>\n",
              "      <td>0.152061</td>\n",
              "      <td>1.000000</td>\n",
              "    </tr>\n",
              "    <tr>\n",
              "      <th>max</th>\n",
              "      <td>4.678671</td>\n",
              "      <td>6.377039</td>\n",
              "      <td>17.591568</td>\n",
              "      <td>1.332722</td>\n",
              "      <td>1.480135</td>\n",
              "      <td>1.482268</td>\n",
              "      <td>1.000000</td>\n",
              "    </tr>\n",
              "  </tbody>\n",
              "</table>\n",
              "</div>"
            ],
            "text/plain": [
              "               accX          accY          accZ         gyroX         gyroY  \\\n",
              "count  31991.000000  31991.000000  31991.000000  31991.000000  31991.000000   \n",
              "mean       0.023825      2.153858      9.537909     -0.004493     -0.014756   \n",
              "std        0.741396      1.085466      2.056358      0.307643      0.249201   \n",
              "min       -3.673361     -4.386029      4.296066     -1.470421     -1.430659   \n",
              "25%       -0.472193      1.413062      7.794217     -0.149783     -0.162656   \n",
              "50%       -0.024998      2.119143      9.406739      0.022301     -0.011060   \n",
              "75%        0.477208      2.928435     11.158845      0.177978      0.124966   \n",
              "max        4.678671      6.377039     17.591568      1.332722      1.480135   \n",
              "\n",
              "              gyroZ      Activity  \n",
              "count  31991.000000  31991.000000  \n",
              "mean      -0.007021      0.982151  \n",
              "std        0.266120      0.132404  \n",
              "min       -1.894102      0.000000  \n",
              "25%       -0.154126      1.000000  \n",
              "50%        0.005261      1.000000  \n",
              "75%        0.152061      1.000000  \n",
              "max        1.482268      1.000000  "
            ]
          },
          "execution_count": 35,
          "metadata": {},
          "output_type": "execute_result"
        }
      ],
      "source": [
        "df.describe()"
      ]
    },
    {
      "cell_type": "code",
      "execution_count": 36,
      "metadata": {
        "id": "piNSIHflJ_MZ"
      },
      "outputs": [
        {
          "data": {
            "text/plain": [
              "(31991, 8)"
            ]
          },
          "execution_count": 36,
          "metadata": {},
          "output_type": "execute_result"
        }
      ],
      "source": [
        "df.shape"
      ]
    },
    {
      "cell_type": "code",
      "execution_count": 37,
      "metadata": {
        "id": "6yECEwAqKy6v"
      },
      "outputs": [
        {
          "name": "stdout",
          "output_type": "stream",
          "text": [
            "accX         float64\n",
            "accY         float64\n",
            "accZ         float64\n",
            "gyroX        float64\n",
            "gyroY        float64\n",
            "gyroZ        float64\n",
            "timestamp     object\n",
            "Activity       int64\n",
            "dtype: object\n"
          ]
        }
      ],
      "source": [
        "\n",
        "print(df.dtypes)"
      ]
    },
    {
      "cell_type": "code",
      "execution_count": 38,
      "metadata": {
        "id": "dQtMbG7NK-ED"
      },
      "outputs": [
        {
          "data": {
            "text/plain": [
              "accX         float64\n",
              "accY         float64\n",
              "accZ         float64\n",
              "gyroX        float64\n",
              "gyroY        float64\n",
              "gyroZ        float64\n",
              "timestamp      int32\n",
              "Activity       int64\n",
              "dtype: object"
            ]
          },
          "execution_count": 38,
          "metadata": {},
          "output_type": "execute_result"
        }
      ],
      "source": [
        "from sklearn.preprocessing import LabelEncoder\n",
        "le = LabelEncoder()\n",
        "# for i in df.columns:\n",
        "#   df[i]=le.fit_transform(df[i])\n",
        "# df.dtypes\n",
        "df['timestamp']=le.fit_transform(df['timestamp'])\n",
        "df.dtypes"
      ]
    },
    {
      "cell_type": "code",
      "execution_count": 39,
      "metadata": {
        "id": "qZ0-xv-GLZq7"
      },
      "outputs": [
        {
          "data": {
            "text/html": [
              "<div>\n",
              "<style scoped>\n",
              "    .dataframe tbody tr th:only-of-type {\n",
              "        vertical-align: middle;\n",
              "    }\n",
              "\n",
              "    .dataframe tbody tr th {\n",
              "        vertical-align: top;\n",
              "    }\n",
              "\n",
              "    .dataframe thead th {\n",
              "        text-align: right;\n",
              "    }\n",
              "</style>\n",
              "<table border=\"1\" class=\"dataframe\">\n",
              "  <thead>\n",
              "    <tr style=\"text-align: right;\">\n",
              "      <th></th>\n",
              "      <th>accX</th>\n",
              "      <th>accY</th>\n",
              "      <th>accZ</th>\n",
              "      <th>gyroX</th>\n",
              "      <th>gyroY</th>\n",
              "      <th>gyroZ</th>\n",
              "      <th>timestamp</th>\n",
              "      <th>Activity</th>\n",
              "    </tr>\n",
              "  </thead>\n",
              "  <tbody>\n",
              "    <tr>\n",
              "      <th>accX</th>\n",
              "      <td>1.000000</td>\n",
              "      <td>-0.194325</td>\n",
              "      <td>0.018496</td>\n",
              "      <td>-0.031462</td>\n",
              "      <td>-0.027962</td>\n",
              "      <td>-0.047648</td>\n",
              "      <td>0.135595</td>\n",
              "      <td>0.126771</td>\n",
              "    </tr>\n",
              "    <tr>\n",
              "      <th>accY</th>\n",
              "      <td>-0.194325</td>\n",
              "      <td>1.000000</td>\n",
              "      <td>-0.079527</td>\n",
              "      <td>-0.004358</td>\n",
              "      <td>-0.008545</td>\n",
              "      <td>-0.004644</td>\n",
              "      <td>-0.116643</td>\n",
              "      <td>0.113486</td>\n",
              "    </tr>\n",
              "    <tr>\n",
              "      <th>accZ</th>\n",
              "      <td>0.018496</td>\n",
              "      <td>-0.079527</td>\n",
              "      <td>1.000000</td>\n",
              "      <td>-0.033973</td>\n",
              "      <td>-0.022959</td>\n",
              "      <td>0.014923</td>\n",
              "      <td>0.009796</td>\n",
              "      <td>-0.014448</td>\n",
              "    </tr>\n",
              "    <tr>\n",
              "      <th>gyroX</th>\n",
              "      <td>-0.031462</td>\n",
              "      <td>-0.004358</td>\n",
              "      <td>-0.033973</td>\n",
              "      <td>1.000000</td>\n",
              "      <td>0.129692</td>\n",
              "      <td>0.146878</td>\n",
              "      <td>0.001195</td>\n",
              "      <td>0.001469</td>\n",
              "    </tr>\n",
              "    <tr>\n",
              "      <th>gyroY</th>\n",
              "      <td>-0.027962</td>\n",
              "      <td>-0.008545</td>\n",
              "      <td>-0.022959</td>\n",
              "      <td>0.129692</td>\n",
              "      <td>1.000000</td>\n",
              "      <td>0.051621</td>\n",
              "      <td>0.008092</td>\n",
              "      <td>-0.001606</td>\n",
              "    </tr>\n",
              "    <tr>\n",
              "      <th>gyroZ</th>\n",
              "      <td>-0.047648</td>\n",
              "      <td>-0.004644</td>\n",
              "      <td>0.014923</td>\n",
              "      <td>0.146878</td>\n",
              "      <td>0.051621</td>\n",
              "      <td>1.000000</td>\n",
              "      <td>0.019567</td>\n",
              "      <td>-0.009460</td>\n",
              "    </tr>\n",
              "    <tr>\n",
              "      <th>timestamp</th>\n",
              "      <td>0.135595</td>\n",
              "      <td>-0.116643</td>\n",
              "      <td>0.009796</td>\n",
              "      <td>0.001195</td>\n",
              "      <td>0.008092</td>\n",
              "      <td>0.019567</td>\n",
              "      <td>1.000000</td>\n",
              "      <td>0.175616</td>\n",
              "    </tr>\n",
              "    <tr>\n",
              "      <th>Activity</th>\n",
              "      <td>0.126771</td>\n",
              "      <td>0.113486</td>\n",
              "      <td>-0.014448</td>\n",
              "      <td>0.001469</td>\n",
              "      <td>-0.001606</td>\n",
              "      <td>-0.009460</td>\n",
              "      <td>0.175616</td>\n",
              "      <td>1.000000</td>\n",
              "    </tr>\n",
              "  </tbody>\n",
              "</table>\n",
              "</div>"
            ],
            "text/plain": [
              "               accX      accY      accZ     gyroX     gyroY     gyroZ  \\\n",
              "accX       1.000000 -0.194325  0.018496 -0.031462 -0.027962 -0.047648   \n",
              "accY      -0.194325  1.000000 -0.079527 -0.004358 -0.008545 -0.004644   \n",
              "accZ       0.018496 -0.079527  1.000000 -0.033973 -0.022959  0.014923   \n",
              "gyroX     -0.031462 -0.004358 -0.033973  1.000000  0.129692  0.146878   \n",
              "gyroY     -0.027962 -0.008545 -0.022959  0.129692  1.000000  0.051621   \n",
              "gyroZ     -0.047648 -0.004644  0.014923  0.146878  0.051621  1.000000   \n",
              "timestamp  0.135595 -0.116643  0.009796  0.001195  0.008092  0.019567   \n",
              "Activity   0.126771  0.113486 -0.014448  0.001469 -0.001606 -0.009460   \n",
              "\n",
              "           timestamp  Activity  \n",
              "accX        0.135595  0.126771  \n",
              "accY       -0.116643  0.113486  \n",
              "accZ        0.009796 -0.014448  \n",
              "gyroX       0.001195  0.001469  \n",
              "gyroY       0.008092 -0.001606  \n",
              "gyroZ       0.019567 -0.009460  \n",
              "timestamp   1.000000  0.175616  \n",
              "Activity    0.175616  1.000000  "
            ]
          },
          "execution_count": 39,
          "metadata": {},
          "output_type": "execute_result"
        }
      ],
      "source": [
        "df.corr()"
      ]
    },
    {
      "cell_type": "code",
      "execution_count": 40,
      "metadata": {
        "id": "m1Z1B8B9Pkz6"
      },
      "outputs": [
        {
          "data": {
            "image/png": "[encoded data removed]",
            "text/plain": [
              "<Figure size 800x500 with 2 Axes>"
            ]
          },
          "metadata": {},
          "output_type": "display_data"
        }
      ],
      "source": [
        "import seaborn as sns\n",
        "import matplotlib.pyplot as plt\n",
        "corr_matrix = df.corr()\n",
        "plt.figure(figsize=(8, 5))\n",
        "sns.heatmap(corr_matrix, annot=True, cmap='plasma')\n",
        "plt.title('Correlation Heatmap')\n",
        "plt.show()"
      ]
    },
    {
      "cell_type": "code",
      "execution_count": 41,
      "metadata": {
        "id": "klbBrRO3cCfb"
      },
      "outputs": [],
      "source": [
        "# for i in df.columns:\n",
        "#   if df[i].corr(df['Activity']) < 0.01:\n",
        "#     df.drop(columns=[i],inplace=True)\n",
        "# df"
      ]
    },
    {
      "cell_type": "code",
      "execution_count": 42,
      "metadata": {
        "id": "9xz1-9T7-Dar"
      },
      "outputs": [
        {
          "data": {
            "text/plain": [
              "array([1, 0], dtype=int64)"
            ]
          },
          "execution_count": 42,
          "metadata": {},
          "output_type": "execute_result"
        }
      ],
      "source": [
        "df['Activity'].unique()"
      ]
    },
    {
      "cell_type": "code",
      "execution_count": 43,
      "metadata": {
        "id": "PzCBbYow-Shj"
      },
      "outputs": [],
      "source": [
        "from sklearn.model_selection import train_test_split\n",
        "X=df.drop(columns='Activity',axis=1)\n",
        "y=df['Activity']\n",
        "x_train,x_test,y_train,y_test=train_test_split(X,y,test_size=0.3,random_state=42)"
      ]
    },
    {
      "cell_type": "code",
      "execution_count": 44,
      "metadata": {
        "id": "Crxj9mmTNq3d"
      },
      "outputs": [],
      "source": [
        "from sklearn.preprocessing import StandardScaler\n",
        "sc = StandardScaler()\n",
        "x_train_std=sc.fit_transform(x_train)\n",
        "x_test_std=sc.transform(x_test)"
      ]
    },
    {
      "cell_type": "code",
      "execution_count": 45,
      "metadata": {
        "id": "q75gTWKpOA3a"
      },
      "outputs": [],
      "source": [
        "from sklearn.model_selection import GridSearchCV\n",
        "from sklearn.metrics import accuracy_score\n"
      ]
    },
    {
      "cell_type": "code",
      "execution_count": 46,
      "metadata": {
        "id": "Lv_IRhC25i5n"
      },
      "outputs": [
        {
          "name": "stdout",
          "output_type": "stream",
          "text": [
            "Best Parameters: {'C': 0.001, 'penalty': 'l1', 'solver': 'liblinear'}\n",
            "Accuracy: 0.9820795999166493\n"
          ]
        }
      ],
      "source": [
        "from sklearn.linear_model import LogisticRegression\n",
        "lr = LogisticRegression()\n",
        "param_grid = {'C': [0.001, 0.01, 0.1, 1, 10, 100, 1000], 'penalty': ['l1', 'l2'], 'solver': ['liblinear']}\n",
        "\n",
        "grid_search = GridSearchCV(estimator=lr, param_grid=param_grid, cv=5)\n",
        "grid_search.fit(x_train_std, y_train)\n",
        "\n",
        "best_params = grid_search.best_params_\n",
        "print(\"Best Parameters:\", best_params)\n",
        "\n",
        "best_logistic_regression = LogisticRegression(**best_params)\n",
        "best_logistic_regression.fit(x_train_std, y_train)\n",
        "\n",
        "y_pred = best_logistic_regression.predict(x_test_std)\n",
        "\n",
        "accuracy = accuracy_score(y_test, y_pred)\n",
        "print(\"Accuracy:\", accuracy)"
      ]
    },
    {
      "cell_type": "code",
      "execution_count": 47,
      "metadata": {
        "id": "De6QwZshAJNw"
      },
      "outputs": [
        {
          "name": "stdout",
          "output_type": "stream",
          "text": [
            "Best Parameters: {'n_neighbors': 9}\n",
            "Accuracy: 0.9823921650343822\n"
          ]
        }
      ],
      "source": [
        "from sklearn.neighbors import KNeighborsClassifier\n",
        "\n",
        "knn=KNeighborsClassifier()\n",
        "param_grid = {'n_neighbors': range(5, 10)}\n",
        "grid_search = GridSearchCV(estimator=knn, param_grid=param_grid, cv=5,scoring='accuracy')\n",
        "grid_search.fit(x_train_std, y_train)\n",
        "\n",
        "best_params = grid_search.best_params_\n",
        "print(\"Best Parameters:\", best_params)\n",
        "\n",
        "best_knn_classifier = KNeighborsClassifier(**best_params)\n",
        "best_knn_classifier.fit(x_train_std, y_train)\n",
        "\n",
        "y_pred = best_knn_classifier.predict(x_test_std)\n",
        "accuracy = accuracy_score(y_test, y_pred)\n",
        "print(\"Accuracy:\", accuracy)"
      ]
    },
    {
      "cell_type": "code",
      "execution_count": 48,
      "metadata": {
        "id": "FsJDlu8VDGSm"
      },
      "outputs": [
        {
          "name": "stdout",
          "output_type": "stream",
          "text": [
            "Best Hyperparameters: {'criterion': 'gini', 'max_depth': 8}\n",
            "Accuracy: 0.9924984371744113\n"
          ]
        }
      ],
      "source": [
        "from sklearn.tree import DecisionTreeClassifier\n",
        "\n",
        "param_grid = {\n",
        "    'max_depth': [3, 5, 8],\n",
        "    'criterion': ['gini', 'entropy']\n",
        "}\n",
        "grid_search = GridSearchCV(DecisionTreeClassifier(), param_grid, cv=5)  # 5-fold cross-validation\n",
        "grid_search.fit(x_train, y_train)\n",
        "\n",
        "best_model = grid_search.best_estimator_\n",
        "best_params = grid_search.best_params_\n",
        "\n",
        "y_pred = best_model.predict(x_test)\n",
        "\n",
        "accuracy = accuracy_score(y_test, y_pred)\n",
        "print(\"Best Hyperparameters:\", best_params)\n",
        "print(\"Accuracy:\", accuracy)"
      ]
    },
    {
      "cell_type": "code",
      "execution_count": 49,
      "metadata": {},
      "outputs": [
        {
          "name": "stdout",
          "output_type": "stream",
          "text": [
            "R2_Score: 0.06947202057635404\n"
          ]
        }
      ],
      "source": [
        "from sklearn.linear_model import LinearRegression\n",
        "lr = LinearRegression()\n",
        "lr.fit(x_train,y_train)\n",
        "y_pred = lr.predict(x_test)\n",
        "\n",
        "from sklearn.metrics import r2_score\n",
        "r2 = r2_score(y_test, y_pred)\n",
        "print(\"R2_Score:\", r2)\n"
      ]
    },
    {
      "cell_type": "code",
      "execution_count": null,
      "metadata": {},
      "outputs": [],
      "source": []
    }
  ],
  "metadata": {
    "colab": {
      "provenance": []
    },
    "kernelspec": {
      "display_name": "Python 3",
      "name": "python3"
    },
    "language_info": {
      "codemirror_mode": {
        "name": "ipython",
        "version": 3
      },
      "file_extension": ".py",
      "mimetype": "text/x-python",
      "name": "python",
      "nbconvert_exporter": "python",
      "pygments_lexer": "ipython3",
      "version": "3.11.8"
    }
  },
  "nbformat": 4,
  "nbformat_minor": 0
}
